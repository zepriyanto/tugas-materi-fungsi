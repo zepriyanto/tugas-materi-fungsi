{
  "nbformat": 4,
  "nbformat_minor": 0,
  "metadata": {
    "colab": {
      "name": "5_1_Tugas_Materi_Fungsi.ipynb",
      "provenance": [],
      "collapsed_sections": []
    },
    "kernelspec": {
      "name": "python3",
      "display_name": "Python 3"
    }
  },
  "cells": [
    {
      "cell_type": "code",
      "metadata": {
        "id": "22s8pI85u5_J"
      },
      "source": [
        ""
      ],
      "execution_count": null,
      "outputs": []
    },
    {
      "cell_type": "markdown",
      "metadata": {
        "id": "fPMZcyuxvINI"
      },
      "source": [
        "**Soal 5.1.1**\n",
        "\n",
        "Berikut ini adalah potongan kode implementasi fungsi *luas_limas_segi_empat()*\n",
        "``` javascript\n",
        "print(\"Luas : %d\" % luas_limas_segi_empat(Alas_limas, Tinggi_limas))​\n",
        "```\n",
        "Lengkapilah kode tersebut dengan merancang sebuah fungsi agar bisa diimplementasikan sesuai dengan statment potongan kode diatas.\n",
        "dengan mengetikan pada code cell di bawah ini pada editor."
      ]
    },
    {
      "cell_type": "code",
      "metadata": {
        "id": "WMeeaGjuxQfL",
        "outputId": "883ef248-f081-466b-b32d-5c2e4a8e9f47",
        "colab": {
          "base_uri": "https://localhost:8080/"
        }
      },
      "source": [
        "# Soal 4.1.1\n",
        "def luas_limas_segi_empat(alas_limas,tinggi_limas):\n",
        "    alas_limas = int(input(\"Masukan Luas Alas :\"))\n",
        "    tinggi_limas = int(input(\"Masukan Tinggi : \"))\n",
        "    luas = (alas_limas*alas_limas)+(4*0.5*alas_limas*tinggi_limas)\n",
        "    return luas\n",
        "\n",
        "print(\"Luas : %d\" % luas_limas_segi_empat(input,input))"
      ],
      "execution_count": 13,
      "outputs": [
        {
          "output_type": "stream",
          "text": [
            "Masukan Luas Alas :10\n",
            "Masukan Tinggi : 5\n",
            "Luas : 200\n"
          ],
          "name": "stdout"
        }
      ]
    }
  ]
}